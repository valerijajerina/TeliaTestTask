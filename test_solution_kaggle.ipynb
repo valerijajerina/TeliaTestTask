{
 "cells": [
  {
   "attachments": {},
   "cell_type": "markdown",
   "metadata": {},
   "source": [
    "# Solution of kaggle competition for Telia practice\n",
    "\n",
    "Competition link: https://www.kaggle.com/competitions/nlp-getting-started\n",
    "Author: Valerija Jerina"
   ]
  }
 ],
 "metadata": {
  "language_info": {
   "name": "python"
  },
  "orig_nbformat": 4
 },
 "nbformat": 4,
 "nbformat_minor": 2
}
